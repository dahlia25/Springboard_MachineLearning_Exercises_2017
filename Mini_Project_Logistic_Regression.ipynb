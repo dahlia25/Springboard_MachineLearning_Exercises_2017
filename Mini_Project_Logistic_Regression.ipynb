{
 "cells": [
  {
   "cell_type": "markdown",
   "metadata": {
    "hide": true
   },
   "source": [
    "# Classification\n",
    "$$\n",
    "\\renewcommand{\\like}{{\\cal L}}\n",
    "\\renewcommand{\\loglike}{{\\ell}}\n",
    "\\renewcommand{\\err}{{\\cal E}}\n",
    "\\renewcommand{\\dat}{{\\cal D}}\n",
    "\\renewcommand{\\hyp}{{\\cal H}}\n",
    "\\renewcommand{\\Ex}[2]{E_{#1}[#2]}\n",
    "\\renewcommand{\\x}{{\\mathbf x}}\n",
    "\\renewcommand{\\v}[1]{{\\mathbf #1}}\n",
    "$$"
   ]
  },
  {
   "cell_type": "markdown",
   "metadata": {},
   "source": [
    "**Note:** We've adapted this Mini Project from [Lab 5 in the CS109](https://github.com/cs109/2015lab5) course. Please feel free to check out the original lab, both for more exercises, as well as solutions."
   ]
  },
  {
   "cell_type": "markdown",
   "metadata": {},
   "source": [
    "We turn our attention to **classification**. Classification tries to predict, which of a small set of classes, an observation belongs to. Mathematically, the aim is to find $y$, a **label** based on knowing a feature vector $\\x$. For instance, consider predicting gender from seeing a person's face, something we do fairly well as humans. To have a machine do this well, we would typically feed the machine a bunch of images of people which have been labelled \"male\" or \"female\" (the training set), and have it learn the gender of the person in the image from the labels and the *features* used to determine gender. Then, given a new photo, the trained algorithm returns us the gender of the person in the photo.\n",
    "\n",
    "There are different ways of making classifications. One idea is shown schematically in the image below, where we find a line that divides \"things\" of two different types in a 2-dimensional feature space. The classification show in the figure below is an example of a maximum-margin classifier where construct a decision boundary that is far as possible away from both classes of points. The fact that a line can be drawn to separate the two classes makes the problem *linearly separable*. Support Vector Machines (SVM) are an example of a maximum-margin classifier.\n",
    "\n",
    "![Splitting using a single line](images/onelinesplit.png)\n",
    "\n"
   ]
  },
  {
   "cell_type": "code",
   "execution_count": 1,
   "metadata": {
    "collapsed": true,
    "hide": true
   },
   "outputs": [],
   "source": [
    "%matplotlib inline\n",
    "import numpy as np\n",
    "import scipy as sp\n",
    "import matplotlib as mpl\n",
    "import matplotlib.cm as cm\n",
    "from matplotlib.colors import ListedColormap\n",
    "import matplotlib.pyplot as plt\n",
    "import pandas as pd\n",
    "pd.set_option('display.width', 500)\n",
    "pd.set_option('display.max_columns', 100)\n",
    "pd.set_option('display.notebook_repr_html', True)\n",
    "import seaborn as sns\n",
    "sns.set_style(\"whitegrid\")\n",
    "sns.set_context(\"poster\")\n",
    "import sklearn.model_selection\n",
    "\n",
    "c0=sns.color_palette()[0]\n",
    "c1=sns.color_palette()[1]\n",
    "c2=sns.color_palette()[2]\n",
    "\n",
    "cmap_light = ListedColormap(['#FFAAAA', '#AAFFAA', '#AAAAFF'])\n",
    "cmap_bold = ListedColormap(['#FF0000', '#00FF00', '#0000FF'])\n",
    "cm = plt.cm.RdBu\n",
    "cm_bright = ListedColormap(['#FF0000', '#0000FF'])\n",
    "\n",
    "def points_plot(ax, Xtr, Xte, ytr, yte, clf, mesh=True, colorscale=cmap_light, \n",
    "                cdiscrete=cmap_bold, alpha=0.1, psize=10, zfunc=False, predicted=False):\n",
    "    h = .02\n",
    "    X=np.concatenate((Xtr, Xte))\n",
    "    x_min, x_max = X[:, 0].min() - .5, X[:, 0].max() + .5\n",
    "    y_min, y_max = X[:, 1].min() - .5, X[:, 1].max() + .5\n",
    "    xx, yy = np.meshgrid(np.linspace(x_min, x_max, 100),\n",
    "                         np.linspace(y_min, y_max, 100))\n",
    "\n",
    "    #plt.figure(figsize=(10,6))\n",
    "    if zfunc:\n",
    "        p0 = clf.predict_proba(np.c_[xx.ravel(), yy.ravel()])[:, 0]\n",
    "        p1 = clf.predict_proba(np.c_[xx.ravel(), yy.ravel()])[:, 1]\n",
    "        Z=zfunc(p0, p1)\n",
    "    else:\n",
    "        Z = clf.predict(np.c_[xx.ravel(), yy.ravel()])\n",
    "    ZZ = Z.reshape(xx.shape)\n",
    "    if mesh:\n",
    "        plt.pcolormesh(xx, yy, ZZ, cmap=cmap_light, alpha=alpha, axes=ax)\n",
    "    if predicted:\n",
    "        showtr = clf.predict(Xtr)\n",
    "        showte = clf.predict(Xte)\n",
    "    else:\n",
    "        showtr = ytr\n",
    "        showte = yte\n",
    "    ax.scatter(Xtr[:, 0], Xtr[:, 1], c=showtr-1, cmap=cmap_bold, \n",
    "               s=psize, alpha=alpha,edgecolor=\"k\")\n",
    "    # and testing points\n",
    "    ax.scatter(Xte[:, 0], Xte[:, 1], c=showte-1, cmap=cmap_bold, \n",
    "               alpha=alpha, marker=\"s\", s=psize+10)\n",
    "    ax.set_xlim(xx.min(), xx.max())\n",
    "    ax.set_ylim(yy.min(), yy.max())\n",
    "    return ax,xx,yy\n",
    "\n",
    "def points_plot_prob(ax, Xtr, Xte, ytr, yte, clf, colorscale=cmap_light, \n",
    "                     cdiscrete=cmap_bold, ccolor=cm, psize=10, alpha=0.1):\n",
    "    ax,xx,yy = points_plot(ax, Xtr, Xte, ytr, yte, clf, mesh=False, \n",
    "                           colorscale=colorscale, cdiscrete=cdiscrete, \n",
    "                           psize=psize, alpha=alpha, predicted=True) \n",
    "    Z = clf.predict_proba(np.c_[xx.ravel(), yy.ravel()])[:, 1]\n",
    "    Z = Z.reshape(xx.shape)\n",
    "    plt.contourf(xx, yy, Z, cmap=ccolor, alpha=.2, axes=ax)\n",
    "    cs2 = plt.contour(xx, yy, Z, cmap=ccolor, alpha=.6, axes=ax)\n",
    "    plt.clabel(cs2, fmt = '%2.1f', colors = 'k', fontsize=14, axes=ax)\n",
    "    return ax "
   ]
  },
  {
   "cell_type": "markdown",
   "metadata": {},
   "source": [
    "## A Motivating Example Using `sklearn`: Heights and Weights"
   ]
  },
  {
   "cell_type": "markdown",
   "metadata": {},
   "source": [
    "We'll use a dataset of heights and weights of males and females to hone our understanding of classifiers. We load the data into a dataframe and plot it."
   ]
  },
  {
   "cell_type": "code",
   "execution_count": 2,
   "metadata": {},
   "outputs": [
    {
     "data": {
      "text/html": [
       "<div>\n",
       "<style>\n",
       "    .dataframe thead tr:only-child th {\n",
       "        text-align: right;\n",
       "    }\n",
       "\n",
       "    .dataframe thead th {\n",
       "        text-align: left;\n",
       "    }\n",
       "\n",
       "    .dataframe tbody tr th {\n",
       "        vertical-align: top;\n",
       "    }\n",
       "</style>\n",
       "<table border=\"1\" class=\"dataframe\">\n",
       "  <thead>\n",
       "    <tr style=\"text-align: right;\">\n",
       "      <th></th>\n",
       "      <th>Gender</th>\n",
       "      <th>Height</th>\n",
       "      <th>Weight</th>\n",
       "    </tr>\n",
       "  </thead>\n",
       "  <tbody>\n",
       "    <tr>\n",
       "      <th>0</th>\n",
       "      <td>Male</td>\n",
       "      <td>73.847017</td>\n",
       "      <td>241.893563</td>\n",
       "    </tr>\n",
       "    <tr>\n",
       "      <th>1</th>\n",
       "      <td>Male</td>\n",
       "      <td>68.781904</td>\n",
       "      <td>162.310473</td>\n",
       "    </tr>\n",
       "    <tr>\n",
       "      <th>2</th>\n",
       "      <td>Male</td>\n",
       "      <td>74.110105</td>\n",
       "      <td>212.740856</td>\n",
       "    </tr>\n",
       "    <tr>\n",
       "      <th>3</th>\n",
       "      <td>Male</td>\n",
       "      <td>71.730978</td>\n",
       "      <td>220.042470</td>\n",
       "    </tr>\n",
       "    <tr>\n",
       "      <th>4</th>\n",
       "      <td>Male</td>\n",
       "      <td>69.881796</td>\n",
       "      <td>206.349801</td>\n",
       "    </tr>\n",
       "  </tbody>\n",
       "</table>\n",
       "</div>"
      ],
      "text/plain": [
       "  Gender     Height      Weight\n",
       "0   Male  73.847017  241.893563\n",
       "1   Male  68.781904  162.310473\n",
       "2   Male  74.110105  212.740856\n",
       "3   Male  71.730978  220.042470\n",
       "4   Male  69.881796  206.349801"
      ]
     },
     "execution_count": 2,
     "metadata": {},
     "output_type": "execute_result"
    }
   ],
   "source": [
    "dflog = pd.read_csv(\"data/01_heights_weights_genders.csv\")\n",
    "dflog.head()"
   ]
  },
  {
   "cell_type": "markdown",
   "metadata": {},
   "source": [
    "Remember that the form of data we will use always is\n",
    "\n",
    "![dataform](images/data.png)\n",
    "\n",
    "with the \"response\" or \"label\" $y$ as a plain array of 0s and 1s for binary classification. Sometimes we will also see -1 and +1 instead. There are also *multiclass* classifiers that can assign an observation to one of $K > 2$ classes and the labe may then be an integer, but we will not be discussing those here.\n",
    "\n",
    "`y = [1,1,0,0,0,1,0,1,0....]`."
   ]
  },
  {
   "cell_type": "markdown",
   "metadata": {},
   "source": [
    "<div class=\"span5 alert alert-info\">\n",
    "<h3>Checkup Exercise Set I</h3>\n",
    "\n",
    "<ul>\n",
    "  <li> <b>Exercise:</b> Create a scatter plot of Weight vs. Height\n",
    "  <li> <b>Exercise:</b> Color the points differently by Gender\n",
    "</ul>\n",
    "</div>"
   ]
  },
  {
   "cell_type": "code",
   "execution_count": 3,
   "metadata": {},
   "outputs": [
    {
     "data": {
      "text/plain": [
       "<matplotlib.text.Text at 0x20fccf39a58>"
      ]
     },
     "execution_count": 3,
     "metadata": {},
     "output_type": "execute_result"
    },
    {
     "data": {
      "image/png": "iVBORw0KGgoAAAANSUhEUgAAAwsAAAIwCAYAAADJbPdgAAAABHNCSVQICAgIfAhkiAAAAAlwSFlz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\n",
      "text/plain": [
       "<matplotlib.figure.Figure at 0x20fc8ff3160>"
      ]
     },
     "metadata": {},
     "output_type": "display_data"
    }
   ],
   "source": [
    "# your turn\n",
    "plt.scatter(dflog.Weight, dflog.Height, c=[cm_bright.colors[i] for i in dflog.Gender==\"Male\"])\n",
    "plt.xlabel('Weight')\n",
    "plt.ylabel('Height')\n",
    "plt.title('Weight vs. Height')\n",
    "\n",
    "# blue = male, red = female"
   ]
  },
  {
   "cell_type": "markdown",
   "metadata": {},
   "source": [
    "### Training and Test Datasets\n",
    "\n",
    "When fitting models, we would like to ensure two things:\n",
    "\n",
    "* We have found the best model (in terms of model parameters).\n",
    "* The model is highly likely to generalize i.e. perform well on unseen data.\n",
    "\n",
    "<br/>\n",
    "<div class=\"span5 alert alert-success\">\n",
    "<h4>Purpose of splitting data into Training/testing sets</h4>\n",
    "<ul>\n",
    "  <li> We built our model with the requirement that the model fit the data well. </li>\n",
    "  <li> As a side-effect, the model will fit <b>THIS</b> dataset well. What about new data? </li>\n",
    "    <ul>\n",
    "      <li> We wanted the model for predictions, right?</li>\n",
    "    </ul>\n",
    "  <li> One simple solution, leave out some data (for <b>testing</b>) and <b>train</b> the model on the rest </li>\n",
    "  <li> This also leads directly to the idea of cross-validation, next section. </li>  \n",
    "</ul>\n",
    "</div>"
   ]
  },
  {
   "cell_type": "markdown",
   "metadata": {},
   "source": [
    "First, we try a basic Logistic Regression:\n",
    "\n",
    "* Split the data into a training and test (hold-out) set\n",
    "* Train on the training set, and test for accuracy on the testing set"
   ]
  },
  {
   "cell_type": "code",
   "execution_count": 4,
   "metadata": {},
   "outputs": [
    {
     "name": "stdout",
     "output_type": "stream",
     "text": [
      "0.9252\n"
     ]
    }
   ],
   "source": [
    "from sklearn.model_selection import train_test_split\n",
    "from sklearn.linear_model import LogisticRegression\n",
    "from sklearn.metrics import accuracy_score\n",
    "\n",
    "# Split the data into a training and test set.\n",
    "Xlr, Xtestlr, ylr, ytestlr = train_test_split(dflog[['Height','Weight']].values, \n",
    "                                              (dflog.Gender == \"Male\").values,random_state=5)\n",
    "\n",
    "clf = LogisticRegression()\n",
    "# Fit the model on the training data.\n",
    "clf.fit(Xlr, ylr)\n",
    "# Print the accuracy from the testing data.\n",
    "print(accuracy_score(clf.predict(Xtestlr), ytestlr))"
   ]
  },
  {
   "cell_type": "markdown",
   "metadata": {},
   "source": [
    "### Tuning the Model"
   ]
  },
  {
   "cell_type": "markdown",
   "metadata": {},
   "source": [
    "The model has some hyperparameters we can tune for hopefully better performance. For tuning the parameters of your model, you will use a mix of *cross-validation* and *grid search*. In Logistic Regression, the most important parameter to tune is the *regularization parameter* `C`. Note that the regularization parameter is not always part of the logistic regression model. \n",
    "\n",
    "The regularization parameter is used to control for unlikely high regression coefficients, and in other cases can be used when data is sparse, as a method of feature selection.\n",
    "\n",
    "You will now implement some code to perform model tuning and selecting the regularization parameter $C$."
   ]
  },
  {
   "cell_type": "markdown",
   "metadata": {},
   "source": [
    "We use the following `cv_score` function to perform K-fold cross-validation and apply a scoring function to each test fold. In this incarnation we use accuracy score as the default scoring function."
   ]
  },
  {
   "cell_type": "code",
   "execution_count": 5,
   "metadata": {
    "collapsed": true
   },
   "outputs": [],
   "source": [
    "from sklearn.model_selection import KFold\n",
    "from sklearn.metrics import accuracy_score\n",
    "\n",
    "def cv_score(clf, x, y, score_func=accuracy_score):\n",
    "    result = 0\n",
    "    nfold = 5\n",
    "    for train, test in KFold(nfold).split(x): # split data into train/test groups, 5 times\n",
    "        clf.fit(x[train], y[train]) # fit\n",
    "        result += score_func(clf.predict(x[test]), y[test]) # evaluate score function on held-out data\n",
    "    return result / nfold # average"
   ]
  },
  {
   "cell_type": "markdown",
   "metadata": {},
   "source": [
    "Below is an example of using the `cv_score` function for a basic logistic regression model without regularization."
   ]
  },
  {
   "cell_type": "code",
   "execution_count": 6,
   "metadata": {},
   "outputs": [
    {
     "name": "stdout",
     "output_type": "stream",
     "text": [
      "0.917066666667\n"
     ]
    }
   ],
   "source": [
    "clf = LogisticRegression()\n",
    "score = cv_score(clf, Xlr, ylr)\n",
    "print(score)"
   ]
  },
  {
   "cell_type": "markdown",
   "metadata": {},
   "source": [
    "<div class=\"span5 alert alert-info\">\n",
    "<h3>Checkup Exercise Set II</h3>\n",
    "\n",
    "<b>Exercise:</b> Implement the following search procedure to find a good model\n",
    "<ul>\n",
    "<li> You are given a list of possible values of `C` below\n",
    "<li> For each C:\n",
    "  <ol>\n",
    "  <li> Create a logistic regression model with that value of C\n",
    "  <li> Find the average score for this model using the `cv_score` function **only on the training set** `(Xlr, ylr)`\n",
    "  </ol>\n",
    "<li> Pick the C with the highest average score\n",
    "</ul>\n",
    "Your goal is to find the best model parameters based *only* on the training set, without showing the model test set at all (which is why the test set is also called a *hold-out* set).\n",
    "</div>"
   ]
  },
  {
   "cell_type": "code",
   "execution_count": 7,
   "metadata": {},
   "outputs": [
    {
     "name": "stdout",
     "output_type": "stream",
     "text": [
      "0.916933333333\n",
      "0.917066666667\n",
      "0.917066666667\n",
      "0.917066666667\n",
      "0.917066666667\n"
     ]
    }
   ],
   "source": [
    "# the grid of parameters to search over\n",
    "Cs = [0.1, 1, 10, 100]\n",
    "\n",
    "# your turn\n",
    "\n",
    "clf = LogisticRegression(C=0.001)\n",
    "clf.fit(Xlr, ylr)\n",
    "score = cv_score(clf, Xlr, ylr)\n",
    "print(score)\n",
    "\n",
    "for C in Cs:\n",
    "    clf = LogisticRegression()\n",
    "    clf.fit(Xlr, ylr)\n",
    "    score = cv_score(clf, Xlr, ylr)\n",
    "    print(score)\n",
    "\n",
    "# It appears that C=0.1 1, 10 and 100 have the highest average score."
   ]
  },
  {
   "cell_type": "markdown",
   "metadata": {},
   "source": [
    "<div class=\"span5 alert alert-info\">\n",
    "<h3>Checkup Exercise Set III</h3>\n",
    "**Exercise:** Now you want to estimate how this model will predict on unseen data in the following way:\n",
    "<ol>\n",
    "<li> Use the C you obtained from the procedure earlier and train a Logistic Regression on the training data\n",
    "<li> Calculate the accuracy on the test data\n",
    "</ol>\n",
    "\n",
    "<p>You may notice that this particular value of `C` may or may not do as well as simply running the default model on a random train-test split. </p>\n",
    "\n",
    "<ul>\n",
    "<li> Do you think that's a problem? \n",
    "<li> Why do we need to do this whole cross-validation and grid search stuff anyway?\n",
    "</ul>\n",
    "\n",
    "</div>"
   ]
  },
  {
   "cell_type": "code",
   "execution_count": 8,
   "metadata": {},
   "outputs": [
    {
     "name": "stdout",
     "output_type": "stream",
     "text": [
      "0.916933333333\n",
      "0.9168\n"
     ]
    }
   ],
   "source": [
    "# your turn\n",
    "\n",
    "clf = LogisticRegression(C=0.001)\n",
    "clf.fit(Xlr, ylr)\n",
    "print(accuracy_score(clf.predict(Xlr), ylr))\n",
    "\n",
    "clf = LogisticRegression(C=1)\n",
    "clf.fit(Xlr, ylr)\n",
    "print(accuracy_score(clf.predict(Xlr), ylr))\n",
    "\n",
    "# It appears that C=0.001 has a lower average score than C=0.1,1,10 and 100. However, C=0.001, has a higher accuracy score than the rest.\n"
   ]
  },
  {
   "cell_type": "markdown",
   "metadata": {},
   "source": [
    "### Black Box Grid Search in `sklearn`"
   ]
  },
  {
   "cell_type": "markdown",
   "metadata": {},
   "source": [
    "Scikit-learn, as with many other Python packages, provides utilities to perform common operations so you do not have to do it manually. It is important to understand the mechanics of each operation, but at a certain point, you will want to use the utility instead to save time..."
   ]
  },
  {
   "cell_type": "markdown",
   "metadata": {},
   "source": [
    "<div class=\"span5 alert alert-info\">\n",
    "<h3>Checkup Exercise Set IV</h3>\n",
    "\n",
    "<b>Exercise:</b> Use scikit-learn's [GridSearchCV](http://scikit-learn.org/stable/modules/generated/sklearn.grid_search.GridSearchCV.html) tool to perform cross validation and grid search. \n",
    "\n",
    "* Instead of writing your own loops above to iterate over the model parameters, can you use GridSearchCV to find the best model over the training set? \n",
    "* Does it give you the same best value of `C`?\n",
    "* How does this model you've obtained perform on the test set?"
   ]
  }
